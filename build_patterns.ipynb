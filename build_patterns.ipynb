{
 "cells": [
  {
   "cell_type": "code",
   "execution_count": 1,
   "metadata": {},
   "outputs": [],
   "source": [
    "import string\n",
    "from operator import itemgetter\n",
    "import cProfile"
   ]
  },
  {
   "cell_type": "code",
   "execution_count": 11,
   "metadata": {},
   "outputs": [],
   "source": [
    "def get_prefix_domain(email):\n",
    "    email_split = email.split('@')\n",
    "    return email_split[0], email_split[1]\n",
    "\n",
    "def num_alpha(prefix):\n",
    "    return sum(x.isalpha() for x in prefix)\n",
    "\n",
    "def get_person_data(name_email_dict):\n",
    "    firstName = name_email_dict['firstName']\n",
    "    lastName = name_email_dict['lastName']\n",
    "    email = name_email_dict['email']\n",
    "    return firstName, lastName, email"
   ]
  },
  {
   "cell_type": "code",
   "execution_count": 40,
   "metadata": {},
   "outputs": [],
   "source": [
    "def check_fragments(prefix, encoding, alphas_in_prefix):\n",
    "    \n",
    "    key, name = encoding[0], encoding[1]\n",
    "    name_length = len(name)\n",
    "    pattern_not_found = True\n",
    "    count = 0\n",
    "    while count < name_length and pattern_not_found:\n",
    "        substring = name[:name_length - count]\n",
    "        if substring in prefix:\n",
    "            if count > 0:\n",
    "                sub = \" {}[:{}] \".format(key, len(substring))\n",
    "            else:\n",
    "                sub = \" {}[:] \".format(key)\n",
    "            prefix = prefix.replace(substring, sub, 1)\n",
    "            pattern_not_found = False\n",
    "            alphas_in_prefix -= len(substring)\n",
    "        else:\n",
    "            count += 1\n",
    "    \n",
    "    return prefix, alphas_in_prefix"
   ]
  },
  {
   "cell_type": "code",
   "execution_count": 5,
   "metadata": {},
   "outputs": [],
   "source": [
    "def fragments_compete(prefix, encodings):\n",
    "    \n",
    "    alphas_in_prefix = num_alpha(prefix)\n",
    "    idx = 0\n",
    "    while alphas_in_prefix > 0 and idx < len(encodings):\n",
    "        prefix, alphas_in_prefix = check_fragments(prefix, encodings[idx], alphas_in_prefix)\n",
    "        idx += 1\n",
    "    return prefix, alphas_in_prefix"
   ]
  },
  {
   "cell_type": "code",
   "execution_count": 12,
   "metadata": {},
   "outputs": [],
   "source": [
    "def get_emailPatterns(name_email_dict):\n",
    "    firstName, lastName, email = get_person_data(name_email_dict)\n",
    "    \n",
    "    prefix, domain = get_prefix_domain(email)\n",
    "    encodings = [('^',firstName), ('&', lastname)]\n",
    "    \n",
    "    rival_patterns = []\n",
    "    \n",
    "    rival_patterns.append(fragments_compete(prefix, encodings)) \n",
    "    rival_patterns.append(fragments_compete(prefix, list(reversed(encodings))))\n",
    "    \n",
    "    better_pattern = sorted(rival_patterns, key=itemgetter(1))[0]\n",
    "    formated_prefix, chars_remaining = better_pattern[0], better_pattern[1]\n",
    "    \n",
    "    if chars_remaining == 0:\n",
    "        return formated_prefix, domain\n",
    "    else:\n",
    "        # we can catch the other stuff here \n",
    "        # middleName, nicknames (if you want), numbers\n",
    "        # I don't like the idea of getting to fancy here though\n",
    "        # there should also be some default state beside None\n",
    "        return 'OOS_prefix', domain"
   ]
  },
  {
   "cell_type": "code",
   "execution_count": 44,
   "metadata": {},
   "outputs": [
    {
     "name": "stdout",
     "output_type": "stream",
     "text": [
      " ^[:1]  &[:] \n"
     ]
    }
   ],
   "source": [
    "email = 'rcornet@gmail.com'\n",
    "firstName = 'ritza'\n",
    "lastname = 'cornet'\n",
    "name_email_dict = {'firstName':firstName, 'lastName': lastname, 'email':email}\n",
    "prefix, domain = get_emailPatterns(name_email_dict)\n",
    "print(prefix)"
   ]
  },
  {
   "cell_type": "code",
   "execution_count": 14,
   "metadata": {},
   "outputs": [],
   "source": [
    "def eval_prefix(name_email_dict, prefix):\n",
    "    \n",
    "    firstName, lastName, email = get_person_data(name_email_dict)\n",
    "    \n",
    "    prefix_list = prefix.replace('^', 'firstName', 1 ).replace('&', 'lastName', 1 ).strip().split(\" \")\n",
    "    \n",
    "    email_prefix = ''\n",
    "    for p in prefix_list:\n",
    "        try:\n",
    "            email_prefix += eval(p)\n",
    "        except:\n",
    "            email_prefix += p\n",
    "            \n",
    "    return email_prefix"
   ]
  },
  {
   "cell_type": "code",
   "execution_count": 39,
   "metadata": {},
   "outputs": [
    {
     "name": "stdout",
     "output_type": "stream",
     "text": [
      "16.7 µs ± 330 ns per loop (mean ± std. dev. of 7 runs, 100000 loops each)\n"
     ]
    }
   ],
   "source": [
    "%timeit eval_prefix(name_email_dict, prefix)"
   ]
  },
  {
   "cell_type": "code",
   "execution_count": 17,
   "metadata": {},
   "outputs": [
    {
     "name": "stdout",
     "output_type": "stream",
     "text": [
      "11.7 µs ± 70.3 ns per loop (mean ± std. dev. of 7 runs, 100000 loops each)\n"
     ]
    }
   ],
   "source": [
    "%timeit get_emailPatterns(name_email_dict)"
   ]
  },
  {
   "cell_type": "code",
   "execution_count": 42,
   "metadata": {},
   "outputs": [
    {
     "data": {
      "text/plain": [
       "' &[:1] - ^[:1] '"
      ]
     },
     "execution_count": 42,
     "metadata": {},
     "output_type": "execute_result"
    }
   ],
   "source": [
    "prefix"
   ]
  },
  {
   "cell_type": "code",
   "execution_count": 27,
   "metadata": {},
   "outputs": [
    {
     "data": {
      "text/plain": [
       "False"
      ]
     },
     "execution_count": 27,
     "metadata": {},
     "output_type": "execute_result"
    }
   ],
   "source": [
    "'.'.isalpha()"
   ]
  },
  {
   "cell_type": "code",
   "execution_count": 33,
   "metadata": {},
   "outputs": [],
   "source": [
    "def eval_prefix1(name_email_dict, prefix):\n",
    "    \n",
    "    firstName, lastName, email = get_person_data(name_email_dict)\n",
    "    \n",
    "    prefix_list = prefix.replace('^', 'firstName', 1 ).replace('&', 'lastName', 1 ).strip().split(\" \")\n",
    "    \n",
    "    email_prefix = ''\n",
    "    for p in prefix_list:\n",
    "        if p[0].isalpha():\n",
    "            email_prefix += eval(p)\n",
    "        else:\n",
    "            email_prefix += p\n",
    "            \n",
    "    return email_prefix"
   ]
  },
  {
   "cell_type": "code",
   "execution_count": 38,
   "metadata": {},
   "outputs": [
    {
     "name": "stdout",
     "output_type": "stream",
     "text": [
      "14.6 µs ± 461 ns per loop (mean ± std. dev. of 7 runs, 100000 loops each)\n"
     ]
    }
   ],
   "source": [
    "%timeit eval_prefix1(name_email_dict, prefix)"
   ]
  },
  {
   "cell_type": "code",
   "execution_count": 34,
   "metadata": {},
   "outputs": [
    {
     "data": {
      "text/plain": [
       "'c-n'"
      ]
     },
     "execution_count": 34,
     "metadata": {},
     "output_type": "execute_result"
    }
   ],
   "source": [
    "timeeval_prefix1(name_email_dict, prefix)"
   ]
  },
  {
   "cell_type": "code",
   "execution_count": 35,
   "metadata": {},
   "outputs": [],
   "source": [
    "a= 'a'"
   ]
  },
  {
   "cell_type": "code",
   "execution_count": 36,
   "metadata": {},
   "outputs": [
    {
     "data": {
      "text/plain": [
       "'a'"
      ]
     },
     "execution_count": 36,
     "metadata": {},
     "output_type": "execute_result"
    }
   ],
   "source": [
    "a[0]"
   ]
  },
  {
   "cell_type": "code",
   "execution_count": null,
   "metadata": {},
   "outputs": [],
   "source": []
  }
 ],
 "metadata": {
  "kernelspec": {
   "display_name": "Python 3.7.6 64-bit ('base': conda)",
   "language": "python",
   "name": "python37664bitbasecondaf0fc0f83319a40289fcda20ab529c1d6"
  },
  "language_info": {
   "codemirror_mode": {
    "name": "ipython",
    "version": 3
   },
   "file_extension": ".py",
   "mimetype": "text/x-python",
   "name": "python",
   "nbconvert_exporter": "python",
   "pygments_lexer": "ipython3",
   "version": "3.7.6"
  }
 },
 "nbformat": 4,
 "nbformat_minor": 4
}
